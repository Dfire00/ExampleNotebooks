{
 "cells": [
  {
   "cell_type": "code",
   "execution_count": 1,
   "metadata": {},
   "outputs": [
    {
     "data": {
      "text/plain": [
       "['HTTPConnectionPool',\n",
       " 'HTTPResponse',\n",
       " 'HTTPSConnectionPool',\n",
       " 'PoolManager',\n",
       " 'ProxyManager',\n",
       " 'Retry',\n",
       " 'Timeout',\n",
       " '__all__',\n",
       " '__author__',\n",
       " '__builtins__',\n",
       " '__cached__',\n",
       " '__doc__',\n",
       " '__file__',\n",
       " '__license__',\n",
       " '__loader__',\n",
       " '__name__',\n",
       " '__package__',\n",
       " '__path__',\n",
       " '__spec__',\n",
       " '__version__',\n",
       " '_collections',\n",
       " 'absolute_import',\n",
       " 'add_stderr_logger',\n",
       " 'connection',\n",
       " 'connection_from_url',\n",
       " 'connectionpool',\n",
       " 'contrib',\n",
       " 'disable_warnings',\n",
       " 'encode_multipart_formdata',\n",
       " 'exceptions',\n",
       " 'fields',\n",
       " 'filepost',\n",
       " 'get_host',\n",
       " 'logging',\n",
       " 'make_headers',\n",
       " 'packages',\n",
       " 'poolmanager',\n",
       " 'proxy_from_url',\n",
       " 'request',\n",
       " 'response',\n",
       " 'util',\n",
       " 'warnings']"
      ]
     },
     "execution_count": 1,
     "metadata": {},
     "output_type": "execute_result"
    }
   ],
   "source": [
    "import urllib3\n",
    "dir(urllib3)"
   ]
  },
  {
   "cell_type": "code",
   "execution_count": 27,
   "metadata": {},
   "outputs": [],
   "source": [
    "from urllib import robotparser\n",
    "dir(urllib)\n",
    "from urllib.request import urlopen, urljoin"
   ]
  },
  {
   "cell_type": "code",
   "execution_count": 28,
   "metadata": {},
   "outputs": [
    {
     "name": "stdout",
     "output_type": "stream",
     "text": [
      "rrate  None\n",
      "Meat & Fish  True\n",
      "\n"
     ]
    }
   ],
   "source": [
    "rp = robotparser.RobotFileParser()\n",
    "rp.set_url(\"http://www.sainsburys.co.uk/robots.txt\")\n",
    "rp.read()\n",
    "rrate = rp.request_rate(\"*\")\n",
    "print(\"rrate \", rrate)\n",
    "crawl_delay = rp.crawl_delay(\"*\")\n",
    "can_fetch_mf = rp.can_fetch(\"*\", \"http://www.sainsburys.co.uk/shop/gb/groceries/meat-fish\")\n",
    "print(\"Meat & Fish \" , can_fetch_mf)\n",
    "print(rp)"
   ]
  },
  {
   "cell_type": "code",
   "execution_count": 24,
   "metadata": {},
   "outputs": [
    {
     "name": "stdout",
     "output_type": "stream",
     "text": [
      "None\n",
      "User-agent: MJ12bot\n",
      "Disallow: /\n",
      "\n",
      "User-agent: Mediapartners-Google*\n",
      "Disallow: /\n",
      "\n",
      "User-agent: IsraBot\n",
      "Allow: \n",
      "\n",
      "User-agent: Orthogaffe\n",
      "Allow: \n",
      "\n",
      "User-agent: UbiCrawler\n",
      "Disallow: /\n",
      "\n",
      "User-agent: DOC\n",
      "Disallow: /\n",
      "\n",
      "User-agent: Zao\n",
      "Disallow: /\n",
      "\n",
      "User-agent: sitecheck.internetseer.com\n",
      "Disallow: /\n",
      "\n",
      "User-agent: Zealbot\n",
      "Disallow: /\n",
      "\n",
      "User-agent: MSIECrawler\n",
      "Disallow: /\n",
      "\n",
      "User-agent: SiteSnagger\n",
      "Disallow: /\n",
      "\n",
      "User-agent: WebStripper\n",
      "Disallow: /\n",
      "\n",
      "User-agent: WebCopier\n",
      "Disallow: /\n",
      "\n",
      "User-agent: Fetch\n",
      "Disallow: /\n",
      "\n",
      "User-agent: Offline Explorer\n",
      "Disallow: /\n",
      "\n",
      "User-agent: Teleport\n",
      "Disallow: /\n",
      "\n",
      "User-agent: TeleportPro\n",
      "Disallow: /\n",
      "\n",
      "User-agent: WebZIP\n",
      "Disallow: /\n",
      "\n",
      "User-agent: linko\n",
      "Disallow: /\n",
      "\n",
      "User-agent: HTTrack\n",
      "Disallow: /\n",
      "\n",
      "User-agent: Microsoft.URL.Control\n",
      "Disallow: /\n",
      "\n",
      "User-agent: Xenu\n",
      "Disallow: /\n",
      "\n",
      "User-agent: larbin\n",
      "Disallow: /\n",
      "\n",
      "User-agent: libwww\n",
      "Disallow: /\n",
      "\n",
      "User-agent: ZyBORG\n",
      "Disallow: /\n",
      "\n",
      "User-agent: Download Ninja\n",
      "Disallow: /\n",
      "\n",
      "User-agent: fast\n",
      "Disallow: /\n",
      "\n",
      "User-agent: wget\n",
      "Disallow: /\n",
      "\n",
      "User-agent: grub-client\n",
      "Disallow: /\n",
      "\n",
      "User-agent: k2spider\n",
      "Disallow: /\n",
      "\n",
      "User-agent: NPBot\n",
      "Disallow: /\n",
      "\n",
      "User-agent: WebReaper\n",
      "Disallow: /\n",
      "\n",
      "\n"
     ]
    }
   ],
   "source": [
    "rpw = robotparser.RobotFileParser()\n",
    "rpw.set_url(\"https://www.wikipedia.org/robots.txt\")\n",
    "rpw.read()\n",
    "rrate = rpw.request_rate(\"*\")\n",
    "print(rrate)\n",
    "print(rpw)\n"
   ]
  },
  {
   "cell_type": "code",
   "execution_count": null,
   "metadata": {},
   "outputs": [],
   "source": []
  }
 ],
 "metadata": {
  "kernelspec": {
   "display_name": "Python 3",
   "language": "python",
   "name": "python3"
  },
  "language_info": {
   "codemirror_mode": {
    "name": "ipython",
    "version": 3
   },
   "file_extension": ".py",
   "mimetype": "text/x-python",
   "name": "python",
   "nbconvert_exporter": "python",
   "pygments_lexer": "ipython3",
   "version": "3.6.5"
  }
 },
 "nbformat": 4,
 "nbformat_minor": 2
}
